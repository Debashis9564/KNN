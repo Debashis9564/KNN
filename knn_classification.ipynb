{
 "cells": [
  {
   "cell_type": "markdown",
   "metadata": {},
   "source": [
    "Implementation of KNN method"
   ]
  },
  {
   "cell_type": "code",
   "execution_count": 6,
   "metadata": {},
   "outputs": [],
   "source": [
    "import numpy as np\n",
    "from collections import Counter\n",
    "def euclidean(x,x_train):\n",
    "    return [np.sqrt(sum(i)) for i in np.square(x-x_train)]\n",
    "def knn_classifier(X_train,y_train, X_text, k=2):\n",
    "    prediction = []\n",
    "    for i in range(len(X_text)):\n",
    "        dist = euclidean(X_text[i],X_train)\n",
    "        dist_with_class = [(i,j) for i,j in zip(dist,y_train)]\n",
    "        sorted_dist_with_class = dist_with_class\n",
    "        sorted_dist_with_class.sort(key= lambda x: x[0])\n",
    "        k_sorted_dist_with_class = sorted_dist_with_class[:k]\n",
    "        # print(k_sorted_dist_with_class)\n",
    "        k_sorted_dist_with_class_counter = Counter([c[1] for c in k_sorted_dist_with_class])\n",
    "        prediction.append(k_sorted_dist_with_class_counter.most_common(1)[0][0])\n",
    "\n",
    "    return prediction\n",
    "\n"
   ]
  },
  {
   "cell_type": "markdown",
   "metadata": {},
   "source": [
    "KNN applied in a small data"
   ]
  },
  {
   "cell_type": "code",
   "execution_count": 11,
   "metadata": {},
   "outputs": [
    {
     "data": {
      "text/plain": [
       "['a', 'b']"
      ]
     },
     "execution_count": 11,
     "metadata": {},
     "output_type": "execute_result"
    }
   ],
   "source": [
    "x_train=np.array([[1,2],[3,4],[5,6],[7,8],[9,10]])\n",
    "y_train=['a','a','a','b','b']\n",
    "y_test=['a','b']\n",
    "x_test=[[1,3],[8,9]]\n",
    "knn_classifier(x_train,y_train,x_test, k=3)"
   ]
  },
  {
   "cell_type": "markdown",
   "metadata": {},
   "source": [
    "Prediction on the iris dataset by this knn method for k=3"
   ]
  },
  {
   "cell_type": "code",
   "execution_count": 12,
   "metadata": {},
   "outputs": [
    {
     "name": "stdout",
     "output_type": "stream",
     "text": [
      "[2, 1, 0, 2, 0, 2, 0, 1, 1, 1, 2, 1, 1, 1, 2, 0, 1, 1, 0, 0, 2, 1, 0, 0, 2, 0, 0, 1, 1, 0]\n"
     ]
    }
   ],
   "source": [
    "from sklearn.datasets import load_iris\n",
    "from sklearn.model_selection import train_test_split\n",
    "iris=load_iris(as_frame=True)\n",
    "# display(iris)\n",
    "# print(iris.keys())\n",
    "X = iris.data.values\n",
    "# display(X)\n",
    "y = iris.target.values\n",
    "# display(y)\n",
    "\n",
    "X_train, X_test, y_train, y_test = train_test_split(X, y, train_size= 0.8, random_state= 0)\n",
    "\n",
    "# print(len(X_train))\n",
    "# print(len(x_test))\n",
    "\n",
    "y_pred = knn_classifier(X_train, y_train, X_test,k=3)\n",
    "print(y_pred)"
   ]
  },
  {
   "cell_type": "markdown",
   "metadata": {},
   "source": [
    "Accuracy check for the above prediction"
   ]
  },
  {
   "cell_type": "code",
   "execution_count": 13,
   "metadata": {},
   "outputs": [
    {
     "name": "stdout",
     "output_type": "stream",
     "text": [
      "Accuracy: 96.66666666666667\n",
      "\n",
      "Classification Report:               precision    recall  f1-score   support\n",
      "\n",
      "           0       1.00      1.00      1.00        11\n",
      "           1       1.00      0.92      0.96        13\n",
      "           2       0.86      1.00      0.92         6\n",
      "\n",
      "    accuracy                           0.97        30\n",
      "   macro avg       0.95      0.97      0.96        30\n",
      "weighted avg       0.97      0.97      0.97        30\n",
      "\n",
      "\n",
      "Confusion Matrix: [[11  0  0]\n",
      " [ 0 12  1]\n",
      " [ 0  0  6]]\n"
     ]
    }
   ],
   "source": [
    "from sklearn.metrics import accuracy_score,classification_report, confusion_matrix\n",
    "accuracy=accuracy_score(y_test,y_pred)\n",
    "print('Accuracy:',accuracy*100)\n",
    "print('\\nClassification Report:',classification_report(y_test,y_pred))\n",
    "print('\\nConfusion Matrix:',confusion_matrix(y_test,y_pred))"
   ]
  },
  {
   "cell_type": "markdown",
   "metadata": {},
   "source": [
    "Finding the optimal k"
   ]
  },
  {
   "cell_type": "code",
   "execution_count": 14,
   "metadata": {},
   "outputs": [
    {
     "name": "stdout",
     "output_type": "stream",
     "text": [
      "[1.0, 0.9666666666666667, 1.0, 0.9666666666666667, 1.0, 1.0, 1.0, 1.0, 1.0, 1.0, 1.0, 1.0, 1.0, 1.0, 1.0, 1.0, 1.0, 1.0, 1.0, 1.0, 1.0, 1.0, 1.0, 1.0, 1.0, 0.9666666666666667, 0.9666666666666667, 0.9666666666666667, 0.9666666666666667, 0.9333333333333333, 0.9333333333333333, 0.9333333333333333, 0.9666666666666667, 0.9333333333333333, 0.9333333333333333, 0.9333333333333333, 0.9333333333333333, 0.9333333333333333, 0.9333333333333333, 0.9333333333333333, 0.9333333333333333, 0.9333333333333333, 0.9333333333333333, 0.9333333333333333, 0.9333333333333333, 0.9, 0.9, 0.9, 0.9, 0.9, 0.9, 0.9, 0.9, 0.9, 0.9, 0.9, 0.9333333333333333, 0.9333333333333333]\n",
      "best k is 2 and best accuracy is 1.0\n"
     ]
    }
   ],
   "source": [
    "accuracy_array = []\n",
    "best_accuracy = 0\n",
    "best_k = 0\n",
    "ks = range(2,int(len(X_train)/2))\n",
    "\n",
    "for k in ks:\n",
    "    y_pred = knn_classifier(X_train, y_train, X_test, k=k)\n",
    "    accuracy = accuracy_score(y_test,y_pred)\n",
    "    accuracy_array.append(accuracy)\n",
    "    if accuracy > best_accuracy:\n",
    "        best_accuracy = accuracy\n",
    "        best_k = k\n",
    "\n",
    "print(accuracy_array)\n",
    "print(f'best k is {best_k} and best accuracy is {best_accuracy}')"
   ]
  }
 ],
 "metadata": {
  "kernelspec": {
   "display_name": "Python 3",
   "language": "python",
   "name": "python3"
  },
  "language_info": {
   "codemirror_mode": {
    "name": "ipython",
    "version": 3
   },
   "file_extension": ".py",
   "mimetype": "text/x-python",
   "name": "python",
   "nbconvert_exporter": "python",
   "pygments_lexer": "ipython3",
   "version": "3.12.2"
  }
 },
 "nbformat": 4,
 "nbformat_minor": 2
}
